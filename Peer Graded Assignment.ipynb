{
 "cells": [
  {
   "cell_type": "markdown",
   "id": "b6c165c9-ec57-4c9c-92a6-ab8a336a9780",
   "metadata": {
    "tags": []
   },
   "source": [
    "<h1> My Jupyter Notebook on IBM Watson Studio </h1>"
   ]
  },
  {
   "cell_type": "markdown",
   "id": "8211285b-2b38-4820-8313-b60cb4591084",
   "metadata": {},
   "source": [
    " Arundhati Sensharma\n",
    "Data Scientist"
   ]
  },
  {
   "cell_type": "markdown",
   "id": "5d2f2c21-77a8-4300-931f-1b4053028b13",
   "metadata": {},
   "source": [
    " <em>I am interested in data science because I am fascinated by the power of data in changing the world.</em>"
   ]
  },
  {
   "cell_type": "markdown",
   "id": "fe21300a-35cc-4507-abd8-dd3812a18246",
   "metadata": {},
   "source": [
    "<h3> The code in cell 5 prints the result of 6 multiplied by 7. </h3>"
   ]
  },
  {
   "cell_type": "code",
   "execution_count": 1,
   "id": "86c24433-a529-4e5a-9f85-09857d3d813e",
   "metadata": {},
   "outputs": [
    {
     "name": "stdout",
     "output_type": "stream",
     "text": [
      "42\n"
     ]
    }
   ],
   "source": [
    "print (6*7)"
   ]
  },
  {
   "cell_type": "markdown",
   "id": "e1bb2ef3-2e0a-40b1-a4ce-f4c26e7fb1ea",
   "metadata": {},
   "source": [
    "<ul> \n",
    "    <li> fork </li>\n",
    "    <li> knife </li>\n",
    "    <li> spoon </li>\n",
    "</ul>\n",
    "\n",
    "<a href=\"https://www.google.com\">Just Google!</a> <br>\n",
    "<strike> This is strikethrough text. </strike>"
   ]
  },
  {
   "cell_type": "code",
   "execution_count": null,
   "id": "0ccb4317-9678-49c1-a498-9c89719255d7",
   "metadata": {},
   "outputs": [],
   "source": []
  }
 ],
 "metadata": {
  "kernelspec": {
   "display_name": "Python",
   "language": "python",
   "name": "conda-env-python-py"
  },
  "language_info": {
   "codemirror_mode": {
    "name": "ipython",
    "version": 3
   },
   "file_extension": ".py",
   "mimetype": "text/x-python",
   "name": "python",
   "nbconvert_exporter": "python",
   "pygments_lexer": "ipython3",
   "version": "3.7.12"
  }
 },
 "nbformat": 4,
 "nbformat_minor": 5
}
